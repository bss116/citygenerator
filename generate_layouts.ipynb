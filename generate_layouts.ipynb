{
 "cells": [
  {
   "cell_type": "markdown",
   "metadata": {},
   "source": [
    "# Script to generate urban layouts from the citygenerator package\n",
    "Generates urban layouts based on the input parameters building density $\\lambda_p$ and frontal aspect ratio $\\lambda_f$. Randomisation by chosing a fractal type for the street layout (\"hierarchical\", \"cascade\" or \"random\") and a randomness parameter $r$."
   ]
  },
  {
   "cell_type": "markdown",
   "metadata": {},
   "source": [
    "# Contents\n",
    "[Setup](#Setup)\n",
    "\n",
    "[Generate layout](#Generate-layout)\n",
    "\n",
    "[Video of generation process](#Video-of-generation-process)\n",
    "\n",
    "[Write data](#Write-data)\n",
    "\n",
    "[Run checks](#Run-checks-for-generated-layout)"
   ]
  },
  {
   "cell_type": "markdown",
   "metadata": {},
   "source": [
    "---\n",
    "# Setup"
   ]
  },
  {
   "cell_type": "markdown",
   "metadata": {},
   "source": [
    "#### Set up libaries and paths"
   ]
  },
  {
   "cell_type": "code",
   "execution_count": null,
   "metadata": {},
   "outputs": [],
   "source": [
    "%matplotlib inline\n",
    "import sys, os\n",
    "import math\n",
    "import numpy as np\n",
    "import matplotlib.pyplot as plt\n",
    "sys.path.append('citygenerator')\n",
    "import citygenerator as cgen"
   ]
  },
  {
   "cell_type": "markdown",
   "metadata": {},
   "source": [
    "#### Set up domain and resolution"
   ]
  },
  {
   "cell_type": "code",
   "execution_count": null,
   "metadata": {},
   "outputs": [],
   "source": [
    "imax = 120  # cells in x\n",
    "jtot = 120  # cells in y\n",
    "kmax = 180  # cells in z\n",
    "xsize = 240  # domain size in x (in m)\n",
    "ysize = 240  # domain size in y (in m)\n",
    "zsize = 180  # domain size in z (in m)"
   ]
  },
  {
   "cell_type": "markdown",
   "metadata": {},
   "source": [
    "#### Generate the grids"
   ]
  },
  {
   "cell_type": "code",
   "execution_count": null,
   "metadata": {},
   "outputs": [],
   "source": [
    "# Processing x-grid\n",
    "dx = xsize/imax\n",
    "xedge = np.arange(0, xsize, dx)\n",
    "xcentre = xedge + dx*0.5\n",
    "xgrid = xcentre\n",
    "\n",
    "# Processing y-grid\n",
    "dy = ysize/jtot\n",
    "yedge = np.arange(0, ysize, dy)\n",
    "ycentre = yedge + dy*0.5\n",
    "ygrid = ycentre\n",
    "\n",
    "# Processing z-grid    \n",
    "dz = zsize/kmax\n",
    "zedge = np.arange(0, zsize, dz)\n",
    "zcentre = zedge + dz*0.5\n",
    "dzs = [dz] * kmax"
   ]
  },
  {
   "cell_type": "markdown",
   "metadata": {},
   "source": [
    "---\n",
    "# Generate layout\n",
    "[Back to contents](#Contents)"
   ]
  },
  {
   "cell_type": "markdown",
   "metadata": {},
   "source": [
    "#### Set layout parameters"
   ]
  },
  {
   "cell_type": "code",
   "execution_count": null,
   "metadata": {},
   "outputs": [],
   "source": [
    "lp = 0.45  # Building density (0 to 1)\n",
    "lg = 0.1  # Greenery density (0 to 1)\n",
    "lf = 0.19  # Frontal area (0 to 1)\n",
    "ldegree = 0.6  # degree of randomness for layout (0 to 1)\n",
    "hdegree = 0.4  # degree of randomness for height (0 to 1)\n",
    "o = 'r'  # \"r for 'random', h for 'hierarchical' and c for 'cascade'"
   ]
  },
  {
   "cell_type": "markdown",
   "metadata": {},
   "source": [
    "## Generate a single block with parameters"
   ]
  },
  {
   "cell_type": "code",
   "execution_count": null,
   "metadata": {},
   "outputs": [],
   "source": [
    "# blocks = cgen.oneblock.generate(xsize, ysize, lp, lf, margin=8, exact=False)\n",
    "# greenery = []\n",
    "# lpfinal = cgen.utils.blockplan(blocks)/(xsize*ysize)\n",
    "# lffinal = cgen.utils.blockfront(blocks)/(xsize*ysize)\n",
    "# print(\"Blocks:\", blocks)\n",
    "# print(\"lp = \", round(lpfinal, 3))\n",
    "# print(\"lf = \", round(lffinal, 3))"
   ]
  },
  {
   "cell_type": "markdown",
   "metadata": {},
   "source": [
    "## Generate fractal blocks"
   ]
  },
  {
   "cell_type": "code",
   "execution_count": null,
   "metadata": {},
   "outputs": [],
   "source": [
    "savesteps=True  # whether to save step by step creation\n",
    "blocks, greenery, blockgeneration = cgen.fractal.generate(xsize, ysize, zsize, imax, jtot, kmax,\n",
    "                                                          lp, lg, lf, \n",
    "                                                          order=o,\n",
    "                                                          layoutrandom=ldegree, heightrandom=hdegree, \n",
    "                                                          margin=5, minwidth=8, minvolume=10,\n",
    "                                                          savesteps=savesteps)\n",
    "lpfinal = cgen.utils.blockplan(blocks)/(xsize*ysize)\n",
    "lffinal = cgen.utils.blockfront(blocks)/(xsize*ysize)\n",
    "# print(\"Blocks:\", blocks)\n",
    "print(\"lp = \", round(lpfinal, 2))\n",
    "print(\"lf = \", round(lffinal, 2))"
   ]
  },
  {
   "cell_type": "markdown",
   "metadata": {},
   "source": [
    "## Display block layout"
   ]
  },
  {
   "cell_type": "code",
   "execution_count": null,
   "metadata": {},
   "outputs": [],
   "source": [
    "limits=[0, xsize, 0, ysize, 0, zsize/2]\n",
    "fig = plt.figure(figsize=(3*2, 4), dpi=150)\n",
    "# geometry plot\n",
    "ax1 = fig.add_subplot(1, 2, 1, projection='3d')\n",
    "cgen.plot.blocks3d(blocks, ax=ax1, limits=limits, edgecolor='k')\n",
    "cgen.plot.blocks3d(greenery, ax=ax1, limits=limits, facecolor='g')\n",
    "# layout plot\n",
    "ax2 = fig.add_subplot(1, 2, 2)\n",
    "cgen.plot.layout(blocks, ax=ax2, limits=limits[:4])\n",
    "cgen.plot.layout(greenery, ax=ax2, limits=limits[:4], facecolor='g')\n",
    "plt.tight_layout()\n",
    "plt.show()"
   ]
  },
  {
   "cell_type": "markdown",
   "metadata": {},
   "source": [
    "## Block statistics"
   ]
  },
  {
   "cell_type": "code",
   "execution_count": null,
   "metadata": {},
   "outputs": [],
   "source": [
    "blockstats = cgen.utils.blockstats(blocks, a0=xsize*ysize)\n",
    "print(\"lamda_p = \", blockstats['lp'])\n",
    "print(\"lambda_f = \", blockstats['lf'])\n",
    "print(\"zmax = \", blockstats['zmax'])\n",
    "print(\"zh = \", blockstats['zh'])\n",
    "print(\"no. of blocks: \", blockstats['nblocks'])\n",
    "print(\"blocks:\\n\", blocks)"
   ]
  },
  {
   "cell_type": "markdown",
   "metadata": {},
   "source": [
    "---\n",
    "# Video of generation process\n",
    "[Back to contents](#Contents)"
   ]
  },
  {
   "cell_type": "code",
   "execution_count": null,
   "metadata": {},
   "outputs": [],
   "source": [
    "saveimage=False\n",
    "showvideo=True\n",
    "limits = [0, xsize, 0, ysize, 0, zsize/2]\n",
    "if blockgeneration:  # if list of steps not empty\n",
    "    if saveimage is True:\n",
    "        savehere = cgen.plot.save_path(\"videos\")\n",
    "#         save_opts = {'transparent' : True, 'bbox_inches' : 'tight'}\n",
    "        save_opts = {'transparent' : False}\n",
    "    fig = plt.figure(figsize=(16*0.5, 9*0.5), dpi=120)\n",
    "    fig.suptitle(\"Urban landscape generator\")\n",
    "    ax = fig.add_subplot(1, 1, 1)\n",
    "    for i, itblocks in enumerate(blockgeneration):\n",
    "        if len(itblocks[0]) == 4:  # a block in itblocks is 2D\n",
    "            ax.clear()  # clear data from axis\n",
    "            ax.set_title(\"Step %s\" % i)\n",
    "            cgen.plot.layout(itblocks, ax=ax, limits=limits[:4])\n",
    "            fig.subplots_adjust(top=0.85, bottom=0.1)\n",
    "            if saveimage is True:\n",
    "                cgen.plot.save_image(savehere + \"ULG\", i, **save_opts)\n",
    "            if showvideo is True:\n",
    "                cgen.plot.show_video(fig)\n",
    "        elif len(itblocks[0]) == 6:  # a block in itblocks is 3D\n",
    "            plt.clf()  # clear plot data\n",
    "            fig.suptitle(\"Urban landscape generator\")\n",
    "            ax = fig.add_subplot(1, 1, 1, projection='3d')\n",
    "            cgen.plot.blocks3d(itblocks, ax=ax, edgecolor='k', limits=limits)\n",
    "            cgen.plot.blocks3d(greenery, ax=ax, facecolor='g', limits=limits)\n",
    "            ax.set_title(\"Step %s\" % i)\n",
    "            ax.dist=10\n",
    "            fig.subplots_adjust(top=0.915)\n",
    "            if saveimage is True:\n",
    "                cgen.plot.save_image(savehere + \"ULG\", i, **save_opts)  \n",
    "            if showvideo is True:\n",
    "                cgen.plot.show_video(fig)\n",
    "    plt.show()"
   ]
  },
  {
   "cell_type": "markdown",
   "metadata": {},
   "source": [
    "---\n",
    "# Write data\n",
    "[Back to contents](#Contents)"
   ]
  },
  {
   "cell_type": "markdown",
   "metadata": {},
   "source": [
    "## Change resolution or convert blocks to grid indices"
   ]
  },
  {
   "cell_type": "code",
   "execution_count": null,
   "metadata": {},
   "outputs": [],
   "source": [
    "dx = imax/xsize\n",
    "dy = jtot/ysize\n",
    "dz = kmax/zsize\n",
    "block_indices = cgen.utils.convert(blocks, dx, dy, dz, rounding=True)\n",
    "print(block_indices)"
   ]
  },
  {
   "cell_type": "markdown",
   "metadata": {},
   "source": [
    "## Write the data"
   ]
  },
  {
   "cell_type": "code",
   "execution_count": null,
   "metadata": {},
   "outputs": [],
   "source": [
    "savedir = \"./layouts\"\n",
    "if not os.path.exists(savedir):\n",
    "    os.mkdir(savedir)\n",
    "blocksfile = os.path.join(savedir, 'blocks.txt')\n",
    "cgen.utils.write(block_indices, blocksfile)"
   ]
  },
  {
   "cell_type": "markdown",
   "metadata": {},
   "source": [
    "---\n",
    "# Run checks for generated layout\n",
    "[Back to contents](#Contents)"
   ]
  },
  {
   "cell_type": "markdown",
   "metadata": {},
   "source": [
    "#### Check block to height ratio"
   ]
  },
  {
   "cell_type": "code",
   "execution_count": null,
   "metadata": {},
   "outputs": [],
   "source": [
    "problemblocks = cgen.checks.check_heightratio(blocks, zsize, heightratio=6)"
   ]
  },
  {
   "cell_type": "markdown",
   "metadata": {},
   "source": [
    "#### Check volume per block"
   ]
  },
  {
   "cell_type": "code",
   "execution_count": null,
   "metadata": {},
   "outputs": [],
   "source": [
    "dx = xsize/imax\n",
    "dy = ysize/jtot\n",
    "dz = zsize/kmax\n",
    "dimfactor = dx*dy*dz\n",
    "problemblocks = cgen.checks.check_blockvolume(blocks, blockvolume=6*dimfactor)"
   ]
  },
  {
   "cell_type": "markdown",
   "metadata": {},
   "source": [
    "#### Check canyon width\n",
    "This function might not always work, canyons are still in development"
   ]
  },
  {
   "cell_type": "code",
   "execution_count": null,
   "metadata": {},
   "outputs": [],
   "source": [
    "# dx = xsize/imax\n",
    "# problemcanyons = cgen.checks.check_canyonwidths(blocks, [0, xsize, 0, ysize], canyonwidth=5*dx)"
   ]
  },
  {
   "cell_type": "markdown",
   "metadata": {},
   "source": [
    "#### Run all checks and plot problematic blocks and canyons"
   ]
  },
  {
   "cell_type": "code",
   "execution_count": null,
   "metadata": {},
   "outputs": [],
   "source": [
    "domain=[0, xsize, 0, ysize, 0, zsize]\n",
    "dx = xsize/imax\n",
    "dy = ysize/jtot\n",
    "dz = zsize/kmax\n",
    "resolution = [dx, dy, dz]\n",
    "problemblocks, problemcanyons = cgen.checks.allchecks(blocks, domain, resolution,\n",
    "                                                    heightratio=6, \n",
    "                                                    blockvolume=10, \n",
    "                                                    canyonwidth=4*dx)\n",
    "if problemblocks or problemcanyons:  # if list is not empty\n",
    "    fig = plt.figure(figsize=(3*2, 4), dpi=100)\n",
    "    ax1 = fig.add_subplot(1, 2, 1, projection='3d')\n",
    "    cgen.plot.blocks3d(problemblocks, ax=ax1, edgecolor='k', \n",
    "                       limits=domain)\n",
    "    ax2 = fig.add_subplot(1, 2, 2)\n",
    "    cgen.plot.layout(problemblocks, ax=ax2, limits=domain[:4])\n",
    "    cgen.plot.layout(problemcanyons, ax=ax2, limits=domain[:4], facecolor='grey')\n",
    "    plt.suptitle(\"Problematic blocks and canyons\")    \n",
    "    plt.tight_layout()\n",
    "    plt.show()"
   ]
  },
  {
   "cell_type": "markdown",
   "metadata": {},
   "source": [
    "[Back to contents](#Contents)"
   ]
  }
 ],
 "metadata": {
  "kernelspec": {
   "display_name": "Python 3",
   "language": "python",
   "name": "python3"
  },
  "language_info": {
   "codemirror_mode": {
    "name": "ipython",
    "version": 3
   },
   "file_extension": ".py",
   "mimetype": "text/x-python",
   "name": "python",
   "nbconvert_exporter": "python",
   "pygments_lexer": "ipython3",
   "version": "3.6.4"
  }
 },
 "nbformat": 4,
 "nbformat_minor": 2
}
